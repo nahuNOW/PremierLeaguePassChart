{
 "cells": [
  {
   "cell_type": "code",
   "execution_count": 2,
   "metadata": {},
   "outputs": [
    {
     "ename": "ModuleNotFoundError",
     "evalue": "No module named 'pandas'",
     "output_type": "error",
     "traceback": [
      "\u001b[1;31m---------------------------------------------------------------------------\u001b[0m",
      "\u001b[1;31mModuleNotFoundError\u001b[0m                       Traceback (most recent call last)",
      "Cell \u001b[1;32mIn[2], line 1\u001b[0m\n\u001b[1;32m----> 1\u001b[0m \u001b[38;5;28;01mimport\u001b[39;00m \u001b[38;5;21;01mpandas\u001b[39;00m \u001b[38;5;28;01mas\u001b[39;00m \u001b[38;5;21;01mpd\u001b[39;00m\n\u001b[0;32m      2\u001b[0m \u001b[38;5;28;01mimport\u001b[39;00m \u001b[38;5;21;01mmatplotlib\u001b[39;00m\u001b[38;5;21;01m.\u001b[39;00m\u001b[38;5;21;01mpyplot\u001b[39;00m \u001b[38;5;28;01mas\u001b[39;00m \u001b[38;5;21;01mplt\u001b[39;00m\n\u001b[0;32m      3\u001b[0m \u001b[38;5;28;01mfrom\u001b[39;00m \u001b[38;5;21;01mmplsoccer\u001b[39;00m\u001b[38;5;21;01m.\u001b[39;00m\u001b[38;5;21;01mpitch\u001b[39;00m \u001b[38;5;28;01mimport\u001b[39;00m Pitch\n",
      "\u001b[1;31mModuleNotFoundError\u001b[0m: No module named 'pandas'"
     ]
    }
   ],
   "source": [
    "import pandas as pd\n",
    "from mplsoccer import *\n",
    "import matplotlib.pyplot as plt\n",
    "import seaborn as sns\n",
    "\n",
    "df = pd.read_csv(\"passes.csv\")\n",
    "\n",
    "df['X'] = df['X']*1.2\n",
    "df['Y'] = df['Y']*.8\n",
    "df['EndX'] = df['EndX']*1.2\n",
    "df['EndY'] = df['EndY']*.8\n",
    "\n",
    "#Making the soccer field\n",
    "fig, ax = plt.subplots(figsize=(13.5, 0))\n",
    "fig.set_facecolor(\"#22312b\")\n",
    "ax.patch.set_facecolor(\"#22312b\")\n",
    "\n",
    "pitch = Pitch(pitch_type='statsbomb',\n",
    "              pitch_color='#22312b', line_color='#c7d5cc')\n",
    "\n",
    "pitch.draw(ax=ax)\n",
    "plt.gca().invert_yaxis()\n",
    "\n",
    "for x in range(len(df['X'])):\n",
    "    if df['Outcome'][x] == 'Successful':\n",
    "        plt.plot((df['X'][x],df['EndX'][x]),(df['Y'][x],df['EndY'][x]),color='green')\n",
    "        plt.scatter(df['X'][x],df['Y'][x],color='green')\n",
    "    if df['Outcome'][x] == 'Unsuccessful':\n",
    "        plt.plot((df['X'][x],df['EndX'][x]),(df['Y'][x],df['EndY'][x]),color='red')\n",
    "        plt.scatter(df['X'][x],df['Y'][x],color='red')\n",
    "\n",
    "plt.title('Mo Salah passes visualizor',color='white',size=20)"
   ]
  },
  {
   "cell_type": "code",
   "execution_count": null,
   "metadata": {},
   "outputs": [],
   "source": [
    "df = pd.read_csv(\"passes.csv\")\n"
   ]
  },
  {
   "cell_type": "code",
   "execution_count": null,
   "metadata": {},
   "outputs": [],
   "source": [
    "df['x'] = df['x']*1.2\n",
    "df['y'] = df['y']*.8\n",
    "df['endX'] = df['endX']*1.2\n",
    "df['endY'] = df['endY']*.8"
   ]
  },
  {
   "cell_type": "code",
   "execution_count": null,
   "metadata": {},
   "outputs": [],
   "source": [
    "df.head()"
   ]
  }
 ],
 "metadata": {
  "kernelspec": {
   "display_name": "Python 3",
   "language": "python",
   "name": "python3"
  },
  "language_info": {
   "codemirror_mode": {
    "name": "ipython",
    "version": 3
   },
   "file_extension": ".py",
   "mimetype": "text/x-python",
   "name": "python",
   "nbconvert_exporter": "python",
   "pygments_lexer": "ipython3",
   "version": "3.10.2"
  }
 },
 "nbformat": 4,
 "nbformat_minor": 2
}
